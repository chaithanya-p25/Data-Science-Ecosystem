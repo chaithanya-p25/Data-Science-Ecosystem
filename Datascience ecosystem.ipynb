{
 "cells": [
  {
   "cell_type": "markdown",
   "id": "2fb3d106-e302-4492-8fc6-47c2ee24faf8",
   "metadata": {},
   "source": [
    "# Data Science Tools and Ecosystem"
   ]
  },
  {
   "cell_type": "markdown",
   "id": "242acb2f-2420-4d81-9888-e5b0d9ea4b5f",
   "metadata": {},
   "source": [
    "**Objectives**  \n",
    "+ List popular languages for data science\n",
    "+ List of libraries used by data scientist\n",
    "+ Evaluating arthematic expression in python\n",
    "+ Converting minutes to hours"
   ]
  },
  {
   "cell_type": "markdown",
   "id": "7a5ea2df-aeb4-4f6c-a536-b032b7c0d053",
   "metadata": {},
   "source": [
    "In this notebook, Data Science Tools and Ecosystem are summerized"
   ]
  },
  {
   "cell_type": "markdown",
   "id": "84e3b328-22d3-4e5f-8a0e-0996b5e8c39e",
   "metadata": {},
   "source": [
    "Some of the popular languages that data scientists use are:  \n",
    "1. Python  \n",
    "2. SQL  \n",
    "3. R"
   ]
  },
  {
   "cell_type": "markdown",
   "id": "01939fd5-669f-40c7-a211-a45c2fabf8e9",
   "metadata": {},
   "source": [
    "Some of the commonly used libraries used by Data Scientists include: \n",
    "1. Numpy  \n",
    "2. Pandas  \n",
    "3. Pytorch  \n",
    "4. Matplotlib\n",
    "    "
   ]
  },
  {
   "cell_type": "markdown",
   "id": "d4d3c579-7eae-40d9-a7fe-78aeb1c2df9c",
   "metadata": {},
   "source": [
    "|Data Science Tools|\n",
    "|-|\n",
    "|RStudio|\n",
    "|Apache Spark|\n",
    "|Tensorflow|\n"
   ]
  },
  {
   "cell_type": "markdown",
   "id": "bdf59f2c-3ffa-48c3-b6dc-db4445444731",
   "metadata": {},
   "source": [
    "### Below are few examples of evaluating arthematic expressions in Python"
   ]
  },
  {
   "cell_type": "code",
   "execution_count": 1,
   "id": "ce232f38-f256-40b5-a224-8a30c45a693e",
   "metadata": {},
   "outputs": [
    {
     "data": {
      "text/plain": [
       "17"
      ]
     },
     "execution_count": 1,
     "metadata": {},
     "output_type": "execute_result"
    }
   ],
   "source": [
    "(3*4)+5"
   ]
  },
  {
   "cell_type": "code",
   "execution_count": null,
   "id": "2d7a7935-b2b1-4243-9046-1f55a10bb295",
   "metadata": {},
   "outputs": [],
   "source": [
    "# This will convert 200 minutes to hours by dividing by 60"
   ]
  },
  {
   "cell_type": "code",
   "execution_count": 2,
   "id": "30268439-9b2d-497e-9dfd-cfae85bca304",
   "metadata": {},
   "outputs": [
    {
     "data": {
      "text/plain": [
       "3.3333333333333335"
      ]
     },
     "execution_count": 2,
     "metadata": {},
     "output_type": "execute_result"
    }
   ],
   "source": [
    "200/60"
   ]
  },
  {
   "cell_type": "markdown",
   "id": "20c946fe-4c7c-452f-9a1e-bbf83867c455",
   "metadata": {},
   "source": [
    "## Author  \n",
    "Chaithanya P"
   ]
  },
  {
   "cell_type": "code",
   "execution_count": null,
   "id": "1e6bd916-27fa-4f0c-b3a8-783ee11be026",
   "metadata": {},
   "outputs": [],
   "source": []
  }
 ],
 "metadata": {
  "kernelspec": {
   "display_name": "Python",
   "language": "python",
   "name": "conda-env-python-py"
  },
  "language_info": {
   "codemirror_mode": {
    "name": "ipython",
    "version": 3
   },
   "file_extension": ".py",
   "mimetype": "text/x-python",
   "name": "python",
   "nbconvert_exporter": "python",
   "pygments_lexer": "ipython3",
   "version": "3.7.12"
  }
 },
 "nbformat": 4,
 "nbformat_minor": 5
}
